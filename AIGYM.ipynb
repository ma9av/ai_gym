{
 "cells": [
  {
   "cell_type": "code",
   "execution_count": 1,
   "metadata": {},
   "outputs": [],
   "source": [
    "import mediapipe as mp\n",
    "import cv2\n",
    "import numpy as np\n"
   ]
  },
  {
   "cell_type": "code",
   "execution_count": null,
   "metadata": {},
   "outputs": [],
   "source": []
  },
  {
   "cell_type": "code",
   "execution_count": 2,
   "metadata": {},
   "outputs": [],
   "source": [
    "mp_drawing = mp.solutions.drawing_utils\n",
    "mp_pose = mp.solutions.pose"
   ]
  },
  {
   "cell_type": "code",
   "execution_count": 3,
   "metadata": {},
   "outputs": [],
   "source": [
    "def calculateAngle(a ,b , c):\n",
    "    a = np.array(a)\n",
    "    b = np.array(b)\n",
    "    c = np.array(c)\n",
    "\n",
    "    radians = np.arctan2(c[1] - b[1], c[0] - b[0]) - np.arctan2(a[1] - b[1], a[0] - b[0])\n",
    "    angle = np.abs(radians * 180.0/np.pi)\n",
    "\n",
    "    if angle > 180.0:\n",
    "        angle = 360 - angle\n",
    "\n",
    "    return angle"
   ]
  },
  {
   "cell_type": "code",
   "execution_count": 4,
   "metadata": {},
   "outputs": [
    {
     "name": "stdout",
     "output_type": "stream",
     "text": [
      "1\n",
      "2\n",
      "3\n",
      "4\n",
      "5\n",
      "6\n",
      "7\n"
     ]
    }
   ],
   "source": [
    "# count variables\n",
    "counter = 0\n",
    "stage = None\n",
    "form = None\n",
    "\n",
    "capture = cv2.VideoCapture(0)\n",
    "\n",
    "with mp_pose.Pose(min_detection_confidence=0.7, min_tracking_confidence=0.7) as pose:\n",
    "\n",
    "    while capture.isOpened():\n",
    "        ret, frame  = capture.read()\n",
    "\n",
    "        # convert to rgb\n",
    "        image = cv2.cvtColor(frame, cv2.COLOR_BGR2RGB)\n",
    "        image.flags.writeable = False\n",
    "\n",
    "\n",
    "        results = pose.process(image)\n",
    "\n",
    "        # convert to bgr\n",
    "        image.flags.writeable = True\n",
    "        image = cv2.cvtColor(image, cv2.COLOR_RGB2BGR)\n",
    "        \n",
    "        try:\n",
    "            landmarks = results.pose_landmarks.landmark\n",
    "\n",
    "            # get co-ordinates\n",
    "            shoulder = [landmarks[11].x, landmarks[11].y] \n",
    "            elbow = [landmarks[13].x, landmarks[13].y] \n",
    "            wrist = [landmarks[15].x, landmarks[15].y]\n",
    "\n",
    "            angle = calculateAngle(shoulder, elbow, wrist)\n",
    "\n",
    "            left_waist = [landmarks[23].x, landmarks[23].y]\n",
    "            left_knee = [landmarks[25].x, landmarks[25].y]\n",
    "\n",
    "            back_angle = calculateAngle(shoulder, left_waist, left_knee)\n",
    " \n",
    "            # visualize angles\n",
    "\n",
    "            cv2.putText(image, str(angle), \n",
    "                        tuple(np.multiply(elbow, [640, 480]).astype(int)),\n",
    "                        cv2.FONT_HERSHEY_COMPLEX, 0.5, (255,255,255), 2, cv2.LINE_AA)\n",
    "            \n",
    "            cv2.putText(image, str(back_angle), \n",
    "                        tuple(np.multiply(left_waist, [640, 480]).astype(int)),\n",
    "                        cv2.FONT_HERSHEY_COMPLEX, 0.5, (255,255,255), 2, cv2.LINE_AA)\n",
    "            \n",
    "\n",
    "            if angle > 160:\n",
    "                stage = 'down'\n",
    "\n",
    "            if angle < 40 and stage == 'down':\n",
    "                stage = 'up'\n",
    "                counter += 1\n",
    "                print(counter)\n",
    "            \n",
    "            if  back_angle < 175:\n",
    "                form = 'bad'\n",
    "            else:\n",
    "                form = 'good'\n",
    "                \n",
    "\n",
    "                        \n",
    "             \n",
    "\n",
    "        except :\n",
    "            pass\n",
    "\n",
    "        # render curl counter\n",
    "        cv2.rectangle(image, (0, 0), (225, 73), (240, 120 , 20), -1)\n",
    "\n",
    "        cv2.putText(image, str(counter),\n",
    "                (10, 40), cv2.FONT_HERSHEY_SIMPLEX,0.7, (255,255,255), 2, cv2.LINE_AA)\n",
    "        \n",
    "        cv2.putText(image, form,\n",
    "                (140, 40), cv2.FONT_HERSHEY_SIMPLEX,0.7, (255,255,255), 2, cv2.LINE_AA)\n",
    "        \n",
    "        cv2.putText(image, \"Reps \",\n",
    "                (50, 40), cv2.FONT_HERSHEY_SIMPLEX,0.7, (255,255,255), 2, cv2.LINE_AA)\n",
    "\n",
    "        # render detections\n",
    "        mp_drawing.draw_landmarks(image, results.pose_landmarks,mp_pose.POSE_CONNECTIONS  )\n",
    "\n",
    "        cv2.imshow('Mediapipe',image)\n",
    "\n",
    "        if cv2.waitKey(10) & 0xFF == ord('q'):\n",
    "            break\n",
    "\n",
    "capture.release()\n",
    "cv2.destroyAllWindows()"
   ]
  },
  {
   "cell_type": "code",
   "execution_count": 6,
   "metadata": {},
   "outputs": [
    {
     "data": {
      "text/plain": [
       "list"
      ]
     },
     "execution_count": 6,
     "metadata": {},
     "output_type": "execute_result"
    }
   ],
   "source": []
  },
  {
   "cell_type": "code",
   "execution_count": null,
   "metadata": {},
   "outputs": [],
   "source": [
    "\n",
    "\n",
    "\n"
   ]
  },
  {
   "cell_type": "code",
   "execution_count": null,
   "metadata": {},
   "outputs": [],
   "source": []
  },
  {
   "cell_type": "code",
   "execution_count": null,
   "metadata": {},
   "outputs": [],
   "source": []
  }
 ],
 "metadata": {
  "kernelspec": {
   "display_name": "Python 3",
   "language": "python",
   "name": "python3"
  },
  "language_info": {
   "codemirror_mode": {
    "name": "ipython",
    "version": 3
   },
   "file_extension": ".py",
   "mimetype": "text/x-python",
   "name": "python",
   "nbconvert_exporter": "python",
   "pygments_lexer": "ipython3",
   "version": "3.11.9"
  }
 },
 "nbformat": 4,
 "nbformat_minor": 2
}
